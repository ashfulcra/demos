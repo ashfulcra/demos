{
 "cells": [
  {
   "cell_type": "markdown",
   "metadata": {},
   "source": [
    "# Hello Fulcra: Connecting and Retrieving Your Data\n",
    "\n",
    "> This notebook is an introduction to accessing your data using the Fulcra \n",
    "Data API. \n"
   ]
  },
  {
   "cell_type": "code",
   "execution_count": 1,
   "metadata": {},
   "outputs": [],
   "source": [
    "from fulcradata import FulcraAPI\n",
    "\n",
    "fulcra = FulcraAPI()"
   ]
  },
  {
   "cell_type": "markdown",
   "metadata": {},
   "source": []
  },
  {
   "cell_type": "code",
   "execution_count": 2,
   "metadata": {},
   "outputs": [
    {
     "data": {
      "text/html": [
       "<a href=\"https://fulcra.us.auth0.com/activate?user_code=NTRX-HLQJ\" target=\"_blank\">Use your browser to log in to Fulcra.  If  the tab does not open automatically, click here to log in to Fulcra.</a>  The code displayed will be: <b>NTRX-HLQJ</b><p>After you have authorized, close the browser tab.</p>"
      ],
      "text/plain": [
       "<IPython.core.display.HTML object>"
      ]
     },
     "metadata": {},
     "output_type": "display_data"
    },
    {
     "data": {
      "text/html": [
       "Authorization succeeded."
      ],
      "text/plain": [
       "<IPython.core.display.HTML object>"
      ]
     },
     "metadata": {},
     "output_type": "display_data"
    }
   ],
   "source": [
    "fulcra.authorize()"
   ]
  },
  {
   "cell_type": "code",
   "execution_count": 3,
   "metadata": {},
   "outputs": [
    {
     "data": {
      "text/html": [
       "<div>\n",
       "<style scoped>\n",
       "    .dataframe tbody tr th:only-of-type {\n",
       "        vertical-align: middle;\n",
       "    }\n",
       "\n",
       "    .dataframe tbody tr th {\n",
       "        vertical-align: top;\n",
       "    }\n",
       "\n",
       "    .dataframe thead th {\n",
       "        text-align: right;\n",
       "    }\n",
       "</style>\n",
       "<table border=\"1\" class=\"dataframe\">\n",
       "  <thead>\n",
       "    <tr style=\"text-align: right;\">\n",
       "      <th></th>\n",
       "      <th>heart_rate</th>\n",
       "      <th>heart_rate_src</th>\n",
       "      <th>distance_on_foot</th>\n",
       "      <th>walking_speed</th>\n",
       "      <th>walking_speed_src</th>\n",
       "    </tr>\n",
       "    <tr>\n",
       "      <th>time</th>\n",
       "      <th></th>\n",
       "      <th></th>\n",
       "      <th></th>\n",
       "      <th></th>\n",
       "      <th></th>\n",
       "    </tr>\n",
       "  </thead>\n",
       "  <tbody>\n",
       "    <tr>\n",
       "      <th>2023-07-01 04:00:00+00:00</th>\n",
       "      <td>NaN</td>\n",
       "      <td>&lt;NA&gt;</td>\n",
       "      <td>NaN</td>\n",
       "      <td>NaN</td>\n",
       "      <td>&lt;NA&gt;</td>\n",
       "    </tr>\n",
       "    <tr>\n",
       "      <th>2023-07-01 04:01:00+00:00</th>\n",
       "      <td>NaN</td>\n",
       "      <td>&lt;NA&gt;</td>\n",
       "      <td>NaN</td>\n",
       "      <td>NaN</td>\n",
       "      <td>&lt;NA&gt;</td>\n",
       "    </tr>\n",
       "    <tr>\n",
       "      <th>2023-07-01 04:02:00+00:00</th>\n",
       "      <td>NaN</td>\n",
       "      <td>&lt;NA&gt;</td>\n",
       "      <td>NaN</td>\n",
       "      <td>NaN</td>\n",
       "      <td>&lt;NA&gt;</td>\n",
       "    </tr>\n",
       "    <tr>\n",
       "      <th>2023-07-01 04:03:00+00:00</th>\n",
       "      <td>NaN</td>\n",
       "      <td>&lt;NA&gt;</td>\n",
       "      <td>NaN</td>\n",
       "      <td>NaN</td>\n",
       "      <td>&lt;NA&gt;</td>\n",
       "    </tr>\n",
       "    <tr>\n",
       "      <th>2023-07-01 04:04:00+00:00</th>\n",
       "      <td>NaN</td>\n",
       "      <td>&lt;NA&gt;</td>\n",
       "      <td>NaN</td>\n",
       "      <td>NaN</td>\n",
       "      <td>&lt;NA&gt;</td>\n",
       "    </tr>\n",
       "    <tr>\n",
       "      <th>...</th>\n",
       "      <td>...</td>\n",
       "      <td>...</td>\n",
       "      <td>...</td>\n",
       "      <td>...</td>\n",
       "      <td>...</td>\n",
       "    </tr>\n",
       "    <tr>\n",
       "      <th>2023-07-10 03:55:00+00:00</th>\n",
       "      <td>NaN</td>\n",
       "      <td>&lt;NA&gt;</td>\n",
       "      <td>0.000000</td>\n",
       "      <td>NaN</td>\n",
       "      <td>&lt;NA&gt;</td>\n",
       "    </tr>\n",
       "    <tr>\n",
       "      <th>2023-07-10 03:56:00+00:00</th>\n",
       "      <td>NaN</td>\n",
       "      <td>&lt;NA&gt;</td>\n",
       "      <td>0.000856</td>\n",
       "      <td>NaN</td>\n",
       "      <td>&lt;NA&gt;</td>\n",
       "    </tr>\n",
       "    <tr>\n",
       "      <th>2023-07-10 03:57:00+00:00</th>\n",
       "      <td>NaN</td>\n",
       "      <td>&lt;NA&gt;</td>\n",
       "      <td>NaN</td>\n",
       "      <td>NaN</td>\n",
       "      <td>&lt;NA&gt;</td>\n",
       "    </tr>\n",
       "    <tr>\n",
       "      <th>2023-07-10 03:58:00+00:00</th>\n",
       "      <td>NaN</td>\n",
       "      <td>&lt;NA&gt;</td>\n",
       "      <td>NaN</td>\n",
       "      <td>NaN</td>\n",
       "      <td>&lt;NA&gt;</td>\n",
       "    </tr>\n",
       "    <tr>\n",
       "      <th>2023-07-10 03:59:00+00:00</th>\n",
       "      <td>NaN</td>\n",
       "      <td>&lt;NA&gt;</td>\n",
       "      <td>NaN</td>\n",
       "      <td>NaN</td>\n",
       "      <td>&lt;NA&gt;</td>\n",
       "    </tr>\n",
       "  </tbody>\n",
       "</table>\n",
       "<p>12960 rows × 5 columns</p>\n",
       "</div>"
      ],
      "text/plain": [
       "                           heart_rate  heart_rate_src  distance_on_foot  \\\n",
       "time                                                                      \n",
       "2023-07-01 04:00:00+00:00         NaN            <NA>               NaN   \n",
       "2023-07-01 04:01:00+00:00         NaN            <NA>               NaN   \n",
       "2023-07-01 04:02:00+00:00         NaN            <NA>               NaN   \n",
       "2023-07-01 04:03:00+00:00         NaN            <NA>               NaN   \n",
       "2023-07-01 04:04:00+00:00         NaN            <NA>               NaN   \n",
       "...                               ...             ...               ...   \n",
       "2023-07-10 03:55:00+00:00         NaN            <NA>          0.000000   \n",
       "2023-07-10 03:56:00+00:00         NaN            <NA>          0.000856   \n",
       "2023-07-10 03:57:00+00:00         NaN            <NA>               NaN   \n",
       "2023-07-10 03:58:00+00:00         NaN            <NA>               NaN   \n",
       "2023-07-10 03:59:00+00:00         NaN            <NA>               NaN   \n",
       "\n",
       "                           walking_speed  walking_speed_src  \n",
       "time                                                         \n",
       "2023-07-01 04:00:00+00:00            NaN               <NA>  \n",
       "2023-07-01 04:01:00+00:00            NaN               <NA>  \n",
       "2023-07-01 04:02:00+00:00            NaN               <NA>  \n",
       "2023-07-01 04:03:00+00:00            NaN               <NA>  \n",
       "2023-07-01 04:04:00+00:00            NaN               <NA>  \n",
       "...                                  ...                ...  \n",
       "2023-07-10 03:55:00+00:00            NaN               <NA>  \n",
       "2023-07-10 03:56:00+00:00            NaN               <NA>  \n",
       "2023-07-10 03:57:00+00:00            NaN               <NA>  \n",
       "2023-07-10 03:58:00+00:00            NaN               <NA>  \n",
       "2023-07-10 03:59:00+00:00            NaN               <NA>  \n",
       "\n",
       "[12960 rows x 5 columns]"
      ]
     },
     "execution_count": 3,
     "metadata": {},
     "output_type": "execute_result"
    }
   ],
   "source": [
    "df = fulcra.time_series_grouped(\n",
    "    start_time = \"2023-07-01 04:00:00.000Z\",\n",
    "    end_time = \"2023-07-10 04:00:00.000Z\",\n",
    "    metrics=[\"HeartRate\", \"DistanceTraveledOnFoot\", \"WalkingSpeed\"]\n",
    ")\n",
    "df"
   ]
  }
 ],
 "metadata": {
  "kernelspec": {
   "display_name": "Python 3 (ipykernel)",
   "language": "python",
   "name": "python3"
  },
  "orig_nbformat": 4
 },
 "nbformat": 4,
 "nbformat_minor": 2
}
