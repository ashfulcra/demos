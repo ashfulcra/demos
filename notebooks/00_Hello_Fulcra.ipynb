{
 "cells": [
  {
   "cell_type": "markdown",
   "metadata": {},
   "source": [
    "# Hello Fulcra: Connecting and Retrieving Your Data\n",
    "\n",
    "> This notebook is an introduction to accessing your data using the Fulcra \n",
    "Data API.\n",
    "\n",
    "This uses the `fulcra-api-python` module, which is available on GitHub\n",
    "at [https://github.com/fulcradynamics/fulcra-api-python](https://github.com/fulcradynamics/fulcra-api-python).\n"
   ]
  },
  {
   "cell_type": "code",
   "execution_count": 1,
   "metadata": {},
   "outputs": [
    {
     "name": "stdout",
     "output_type": "stream",
     "text": [
      "Collecting git+https://github.com/fulcradynamics/fulcra-api-python.git@main\n",
      "  Cloning https://github.com/fulcradynamics/fulcra-api-python.git (to revision main) to /private/var/folders/zs/k3br78596h57rxskr86l7ndm0000gn/T/pip-req-build-3se57ahl\n",
      "  Running command git clone --filter=blob:none --quiet https://github.com/fulcradynamics/fulcra-api-python.git /private/var/folders/zs/k3br78596h57rxskr86l7ndm0000gn/T/pip-req-build-3se57ahl\n",
      "  Resolved https://github.com/fulcradynamics/fulcra-api-python.git to commit ec5fa8f3d70d09221c5c1a7ceaaef6debf2eb7dc\n",
      "  Installing build dependencies ... \u001b[?25ldone\n",
      "\u001b[?25h  Getting requirements to build wheel ... \u001b[?25ldone\n",
      "\u001b[?25h  Preparing metadata (pyproject.toml) ... \u001b[?25ldone\n",
      "\u001b[?25hRequirement already satisfied: pandas<3,>=2 in /Users/cstone/Desktop/fulcra/duckdb/venv/lib/python3.10/site-packages (from fulcra-api==0.1.1) (2.0.3)\n",
      "Requirement already satisfied: python-dateutil>=2.8.2 in /Users/cstone/Desktop/fulcra/duckdb/venv/lib/python3.10/site-packages (from pandas<3,>=2->fulcra-api==0.1.1) (2.8.2)\n",
      "Requirement already satisfied: pytz>=2020.1 in /Users/cstone/Desktop/fulcra/duckdb/venv/lib/python3.10/site-packages (from pandas<3,>=2->fulcra-api==0.1.1) (2022.7.1)\n",
      "Requirement already satisfied: tzdata>=2022.1 in /Users/cstone/Desktop/fulcra/duckdb/venv/lib/python3.10/site-packages (from pandas<3,>=2->fulcra-api==0.1.1) (2023.2)\n",
      "Requirement already satisfied: numpy>=1.21.0 in /Users/cstone/Desktop/fulcra/duckdb/venv/lib/python3.10/site-packages (from pandas<3,>=2->fulcra-api==0.1.1) (1.23.5)\n",
      "Requirement already satisfied: six>=1.5 in /Users/cstone/Desktop/fulcra/duckdb/venv/lib/python3.10/site-packages (from python-dateutil>=2.8.2->pandas<3,>=2->fulcra-api==0.1.1) (1.16.0)\n"
     ]
    }
   ],
   "source": [
    "!pip install git+https://github.com/fulcradynamics/fulcra-api-python.git@main\n"
   ]
  },
  {
   "cell_type": "code",
   "execution_count": 2,
   "metadata": {},
   "outputs": [],
   "source": [
    "from fulcra_api.core import FulcraAPI\n",
    "\n",
    "fulcra = FulcraAPI()"
   ]
  },
  {
   "cell_type": "markdown",
   "metadata": {},
   "source": [
    "## Logging in to Fulcra\n",
    "\n",
    "To make calls to the API, call `authorize()` first.  You authorize the `FulcraAPI`\n",
    "instance using your browser.  The `authorize()` function will generate a link below\n",
    "that you should click to log in to Fulcra.  (Depending on the notebook front-end \n",
    "you're using, this tab may open automatically. On Colaboratory and other hosted\n",
    "solutions, pop-up blockers usually prevent this from happening.)\n",
    "\n",
    "Once you've logged in, close the tab; you should see \"Authorization succeeded\" \n",
    "displayed in the notebook output.  \n"
   ]
  },
  {
   "cell_type": "code",
   "execution_count": 3,
   "metadata": {},
   "outputs": [
    {
     "data": {
      "text/html": [
       "<a href=\"https://fulcra.us.auth0.com/activate?user_code=BVGD-PCHD\" target=\"_blank\">Use your browser to log in to Fulcra.  If  the tab does not open automatically, click here to log in to Fulcra.</a>  The code displayed will be: <b>BVGD-PCHD</b><p>After you have authorized, close the browser tab.</p>"
      ],
      "text/plain": [
       "<IPython.core.display.HTML object>"
      ]
     },
     "metadata": {},
     "output_type": "display_data"
    },
    {
     "data": {
      "text/html": [
       "Authorization succeeded."
      ],
      "text/plain": [
       "<IPython.core.display.HTML object>"
      ]
     },
     "metadata": {},
     "output_type": "display_data"
    }
   ],
   "source": [
    "fulcra.authorize()"
   ]
  },
  {
   "cell_type": "markdown",
   "metadata": {},
   "source": [
    "## Retrieving Time Series Data\n",
    "\n",
    "Once your `FulcraAPI` instance is authorized, you can now use it \n",
    "to make API calls.\n",
    "\n",
    "The `time_series_grouped` function returns a Pandas dataframe."
   ]
  },
  {
   "cell_type": "code",
   "execution_count": 4,
   "metadata": {},
   "outputs": [
    {
     "data": {
      "text/html": [
       "<div>\n",
       "<style scoped>\n",
       "    .dataframe tbody tr th:only-of-type {\n",
       "        vertical-align: middle;\n",
       "    }\n",
       "\n",
       "    .dataframe tbody tr th {\n",
       "        vertical-align: top;\n",
       "    }\n",
       "\n",
       "    .dataframe thead th {\n",
       "        text-align: right;\n",
       "    }\n",
       "</style>\n",
       "<table border=\"1\" class=\"dataframe\">\n",
       "  <thead>\n",
       "    <tr style=\"text-align: right;\">\n",
       "      <th></th>\n",
       "      <th>distance_on_foot</th>\n",
       "      <th>apple_watch_exercise_time</th>\n",
       "      <th>active_calories_burned</th>\n",
       "      <th>basal_calories_burned</th>\n",
       "    </tr>\n",
       "    <tr>\n",
       "      <th>time</th>\n",
       "      <th></th>\n",
       "      <th></th>\n",
       "      <th></th>\n",
       "      <th></th>\n",
       "    </tr>\n",
       "  </thead>\n",
       "  <tbody>\n",
       "    <tr>\n",
       "      <th>2023-07-01 04:00:00+00:00</th>\n",
       "      <td>NaN</td>\n",
       "      <td>&lt;NA&gt;</td>\n",
       "      <td>0.118856</td>\n",
       "      <td>1.334066</td>\n",
       "    </tr>\n",
       "    <tr>\n",
       "      <th>2023-07-01 04:01:00+00:00</th>\n",
       "      <td>NaN</td>\n",
       "      <td>&lt;NA&gt;</td>\n",
       "      <td>0.188949</td>\n",
       "      <td>1.334066</td>\n",
       "    </tr>\n",
       "    <tr>\n",
       "      <th>2023-07-01 04:02:00+00:00</th>\n",
       "      <td>NaN</td>\n",
       "      <td>&lt;NA&gt;</td>\n",
       "      <td>0.187316</td>\n",
       "      <td>1.334066</td>\n",
       "    </tr>\n",
       "    <tr>\n",
       "      <th>2023-07-01 04:03:00+00:00</th>\n",
       "      <td>NaN</td>\n",
       "      <td>&lt;NA&gt;</td>\n",
       "      <td>0.248060</td>\n",
       "      <td>1.334066</td>\n",
       "    </tr>\n",
       "    <tr>\n",
       "      <th>2023-07-01 04:04:00+00:00</th>\n",
       "      <td>NaN</td>\n",
       "      <td>&lt;NA&gt;</td>\n",
       "      <td>0.289612</td>\n",
       "      <td>1.334066</td>\n",
       "    </tr>\n",
       "    <tr>\n",
       "      <th>...</th>\n",
       "      <td>...</td>\n",
       "      <td>...</td>\n",
       "      <td>...</td>\n",
       "      <td>...</td>\n",
       "    </tr>\n",
       "    <tr>\n",
       "      <th>2023-07-10 03:55:00+00:00</th>\n",
       "      <td>0.000000</td>\n",
       "      <td>&lt;NA&gt;</td>\n",
       "      <td>0.351591</td>\n",
       "      <td>1.406882</td>\n",
       "    </tr>\n",
       "    <tr>\n",
       "      <th>2023-07-10 03:56:00+00:00</th>\n",
       "      <td>0.000721</td>\n",
       "      <td>&lt;NA&gt;</td>\n",
       "      <td>0.281103</td>\n",
       "      <td>1.594546</td>\n",
       "    </tr>\n",
       "    <tr>\n",
       "      <th>2023-07-10 03:57:00+00:00</th>\n",
       "      <td>NaN</td>\n",
       "      <td>&lt;NA&gt;</td>\n",
       "      <td>0.366259</td>\n",
       "      <td>1.622785</td>\n",
       "    </tr>\n",
       "    <tr>\n",
       "      <th>2023-07-10 03:58:00+00:00</th>\n",
       "      <td>NaN</td>\n",
       "      <td>&lt;NA&gt;</td>\n",
       "      <td>0.356257</td>\n",
       "      <td>1.434692</td>\n",
       "    </tr>\n",
       "    <tr>\n",
       "      <th>2023-07-10 03:59:00+00:00</th>\n",
       "      <td>NaN</td>\n",
       "      <td>&lt;NA&gt;</td>\n",
       "      <td>0.577763</td>\n",
       "      <td>1.462368</td>\n",
       "    </tr>\n",
       "  </tbody>\n",
       "</table>\n",
       "<p>12960 rows × 4 columns</p>\n",
       "</div>"
      ],
      "text/plain": [
       "                           distance_on_foot  apple_watch_exercise_time  \\\n",
       "time                                                                     \n",
       "2023-07-01 04:00:00+00:00               NaN                       <NA>   \n",
       "2023-07-01 04:01:00+00:00               NaN                       <NA>   \n",
       "2023-07-01 04:02:00+00:00               NaN                       <NA>   \n",
       "2023-07-01 04:03:00+00:00               NaN                       <NA>   \n",
       "2023-07-01 04:04:00+00:00               NaN                       <NA>   \n",
       "...                                     ...                        ...   \n",
       "2023-07-10 03:55:00+00:00          0.000000                       <NA>   \n",
       "2023-07-10 03:56:00+00:00          0.000721                       <NA>   \n",
       "2023-07-10 03:57:00+00:00               NaN                       <NA>   \n",
       "2023-07-10 03:58:00+00:00               NaN                       <NA>   \n",
       "2023-07-10 03:59:00+00:00               NaN                       <NA>   \n",
       "\n",
       "                           active_calories_burned  basal_calories_burned  \n",
       "time                                                                      \n",
       "2023-07-01 04:00:00+00:00                0.118856               1.334066  \n",
       "2023-07-01 04:01:00+00:00                0.188949               1.334066  \n",
       "2023-07-01 04:02:00+00:00                0.187316               1.334066  \n",
       "2023-07-01 04:03:00+00:00                0.248060               1.334066  \n",
       "2023-07-01 04:04:00+00:00                0.289612               1.334066  \n",
       "...                                           ...                    ...  \n",
       "2023-07-10 03:55:00+00:00                0.351591               1.406882  \n",
       "2023-07-10 03:56:00+00:00                0.281103               1.594546  \n",
       "2023-07-10 03:57:00+00:00                0.366259               1.622785  \n",
       "2023-07-10 03:58:00+00:00                0.356257               1.434692  \n",
       "2023-07-10 03:59:00+00:00                0.577763               1.462368  \n",
       "\n",
       "[12960 rows x 4 columns]"
      ]
     },
     "execution_count": 4,
     "metadata": {},
     "output_type": "execute_result"
    }
   ],
   "source": [
    "df = fulcra.time_series_grouped(\n",
    "    start_time = \"2023-07-01 04:00:00.000Z\",\n",
    "    end_time = \"2023-07-10 04:00:00.000Z\",\n",
    "    metrics=[\"DistanceTraveledOnFoot\", \n",
    "        \"AppleWatchExerciseTime\",\n",
    "        \"ActiveCaloriesBurned\",\n",
    "        \"BasalCaloriesBurned\"\n",
    "    ]\n",
    ")\n",
    "df"
   ]
  },
  {
   "cell_type": "code",
   "execution_count": 5,
   "metadata": {},
   "outputs": [
    {
     "data": {
      "text/plain": [
       "<Axes: xlabel='time'>"
      ]
     },
     "execution_count": 5,
     "metadata": {},
     "output_type": "execute_result"
    },
    {
     "data": {
      "image/png": "[encoded data removed]",
      "text/plain": [
       "<Figure size 640x480 with 1 Axes>"
      ]
     },
     "metadata": {},
     "output_type": "display_data"
    }
   ],
   "source": [
    "df.plot()"
   ]
  }
 ],
 "metadata": {
  "kernelspec": {
   "display_name": "Python 3 (ipykernel)",
   "language": "python",
   "name": "python3"
  },
  "language_info": {
   "codemirror_mode": {
    "name": "ipython",
    "version": 3
   },
   "file_extension": ".py",
   "mimetype": "text/x-python",
   "name": "python",
   "nbconvert_exporter": "python",
   "pygments_lexer": "ipython3",
   "version": "3.10.12"
  },
  "orig_nbformat": 4
 },
 "nbformat": 4,
 "nbformat_minor": 2
}
