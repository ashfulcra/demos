{
 "cells": [
  {
   "cell_type": "markdown",
   "metadata": {},
   "source": [
    "# Hello Fulcra: Connecting and Retrieving Your Data\n",
    "\n",
    "> This notebook is an introduction to accessing your data using the Fulcra \n",
    "Data API.\n",
    "\n",
    "This uses the `fulcra-api` module, which is available on PyPI; its source is on GitHub\n",
    "at [https://github.com/fulcradynamics/fulcra-api-python](https://github.com/fulcradynamics/fulcra-api-python).\n",
    "\n",
    "Please reach out via issues or email if you have questions.\n"
   ]
  },
  {
   "cell_type": "code",
   "execution_count": 1,
   "metadata": {},
   "outputs": [
    {
     "name": "stdout",
     "output_type": "stream",
     "text": [
      "Requirement already satisfied: fulcra-api in /Users/cstone/Desktop/fulcra/duckdb/venv/lib/python3.10/site-packages (0.1.5)\n",
      "Requirement already satisfied: pandas<3,>1.5 in /Users/cstone/Desktop/fulcra/duckdb/venv/lib/python3.10/site-packages (from fulcra-api) (2.1.1)\n",
      "Requirement already satisfied: pyarrow<14.0.0,>=13.0.0 in /Users/cstone/Desktop/fulcra/duckdb/venv/lib/python3.10/site-packages (from fulcra-api) (13.0.0)\n",
      "Requirement already satisfied: numpy>=1.22.4 in /Users/cstone/Desktop/fulcra/duckdb/venv/lib/python3.10/site-packages (from pandas<3,>1.5->fulcra-api) (1.25.2)\n",
      "Requirement already satisfied: python-dateutil>=2.8.2 in /Users/cstone/Desktop/fulcra/duckdb/venv/lib/python3.10/site-packages (from pandas<3,>1.5->fulcra-api) (2.8.2)\n",
      "Requirement already satisfied: pytz>=2020.1 in /Users/cstone/Desktop/fulcra/duckdb/venv/lib/python3.10/site-packages (from pandas<3,>1.5->fulcra-api) (2023.3)\n",
      "Requirement already satisfied: tzdata>=2022.1 in /Users/cstone/Desktop/fulcra/duckdb/venv/lib/python3.10/site-packages (from pandas<3,>1.5->fulcra-api) (2023.3)\n",
      "Requirement already satisfied: six>=1.5 in /Users/cstone/Desktop/fulcra/duckdb/venv/lib/python3.10/site-packages (from python-dateutil>=2.8.2->pandas<3,>1.5->fulcra-api) (1.16.0)\n"
     ]
    }
   ],
   "source": [
    "!pip install -U fulcra-api\n"
   ]
  },
  {
   "cell_type": "code",
   "execution_count": 2,
   "metadata": {},
   "outputs": [],
   "source": [
    "from fulcra_api.core import FulcraAPI\n",
    "\n",
    "fulcra = FulcraAPI()"
   ]
  },
  {
   "cell_type": "markdown",
   "metadata": {},
   "source": [
    "## Logging in to Fulcra\n",
    "\n",
    "To make calls to the API, call `authorize()` first.  You authorize the `FulcraAPI`\n",
    "instance using your browser.  The `authorize()` function will generate a link below\n",
    "that you should click to log in to Fulcra.  (Depending on the notebook front-end \n",
    "you're using, this tab may open automatically. On Colaboratory and other hosted\n",
    "solutions, pop-up blockers usually prevent this from happening.)\n",
    "\n",
    "Once you've logged in, close the tab; you should see \"Authorization succeeded\" \n",
    "displayed in the notebook output.  \n"
   ]
  },
  {
   "cell_type": "code",
   "execution_count": 3,
   "metadata": {},
   "outputs": [
    {
     "data": {
      "text/html": [
       "<a href=\"https://fulcra.us.auth0.com/activate?user_code=MBNV-VZKR\" target=\"_blank\">Use your browser to log in to Fulcra.  If  the tab does not open automatically, click here to log in to Fulcra.</a>  The code displayed will be: <b>MBNV-VZKR</b><p>After you have authorized, close the browser tab.</p>"
      ],
      "text/plain": [
       "<IPython.core.display.HTML object>"
      ]
     },
     "metadata": {},
     "output_type": "display_data"
    },
    {
     "data": {
      "text/html": [
       "Authorization succeeded."
      ],
      "text/plain": [
       "<IPython.core.display.HTML object>"
      ]
     },
     "metadata": {},
     "output_type": "display_data"
    }
   ],
   "source": [
    "fulcra.authorize()"
   ]
  },
  {
   "cell_type": "markdown",
   "metadata": {},
   "source": [
    "## Retrieving Time Series Data\n",
    "\n",
    "Once your `FulcraAPI` instance is authorized, you can now use it \n",
    "to make API calls.\n",
    "\n",
    "The `time_series_grouped` function returns a pandas dataframe."
   ]
  },
  {
   "cell_type": "code",
   "execution_count": 7,
   "metadata": {},
   "outputs": [
    {
     "data": {
      "text/html": [
       "<div>\n",
       "<style scoped>\n",
       "    .dataframe tbody tr th:only-of-type {\n",
       "        vertical-align: middle;\n",
       "    }\n",
       "\n",
       "    .dataframe tbody tr th {\n",
       "        vertical-align: top;\n",
       "    }\n",
       "\n",
       "    .dataframe thead th {\n",
       "        text-align: right;\n",
       "    }\n",
       "</style>\n",
       "<table border=\"1\" class=\"dataframe\">\n",
       "  <thead>\n",
       "    <tr style=\"text-align: right;\">\n",
       "      <th></th>\n",
       "      <th>distance_on_foot</th>\n",
       "      <th>apple_watch_exercise_time</th>\n",
       "      <th>active_calories_burned</th>\n",
       "      <th>basal_calories_burned</th>\n",
       "    </tr>\n",
       "    <tr>\n",
       "      <th>time</th>\n",
       "      <th></th>\n",
       "      <th></th>\n",
       "      <th></th>\n",
       "      <th></th>\n",
       "    </tr>\n",
       "  </thead>\n",
       "  <tbody>\n",
       "    <tr>\n",
       "      <th>2023-07-01 04:00:00+00:00</th>\n",
       "      <td>NaN</td>\n",
       "      <td>&lt;NA&gt;</td>\n",
       "      <td>0.124000</td>\n",
       "      <td>1.333887</td>\n",
       "    </tr>\n",
       "    <tr>\n",
       "      <th>2023-07-01 04:01:00+00:00</th>\n",
       "      <td>NaN</td>\n",
       "      <td>&lt;NA&gt;</td>\n",
       "      <td>0.187429</td>\n",
       "      <td>1.333887</td>\n",
       "    </tr>\n",
       "    <tr>\n",
       "      <th>2023-07-01 04:02:00+00:00</th>\n",
       "      <td>NaN</td>\n",
       "      <td>&lt;NA&gt;</td>\n",
       "      <td>0.191016</td>\n",
       "      <td>1.333887</td>\n",
       "    </tr>\n",
       "    <tr>\n",
       "      <th>2023-07-01 04:03:00+00:00</th>\n",
       "      <td>NaN</td>\n",
       "      <td>&lt;NA&gt;</td>\n",
       "      <td>0.246077</td>\n",
       "      <td>1.333887</td>\n",
       "    </tr>\n",
       "    <tr>\n",
       "      <th>2023-07-01 04:04:00+00:00</th>\n",
       "      <td>NaN</td>\n",
       "      <td>&lt;NA&gt;</td>\n",
       "      <td>0.292781</td>\n",
       "      <td>1.333887</td>\n",
       "    </tr>\n",
       "    <tr>\n",
       "      <th>...</th>\n",
       "      <td>...</td>\n",
       "      <td>...</td>\n",
       "      <td>...</td>\n",
       "      <td>...</td>\n",
       "    </tr>\n",
       "    <tr>\n",
       "      <th>2023-07-10 03:55:00+00:00</th>\n",
       "      <td>0.000000</td>\n",
       "      <td>&lt;NA&gt;</td>\n",
       "      <td>0.354810</td>\n",
       "      <td>1.375441</td>\n",
       "    </tr>\n",
       "    <tr>\n",
       "      <th>2023-07-10 03:56:00+00:00</th>\n",
       "      <td>0.000856</td>\n",
       "      <td>&lt;NA&gt;</td>\n",
       "      <td>0.281860</td>\n",
       "      <td>1.583422</td>\n",
       "    </tr>\n",
       "    <tr>\n",
       "      <th>2023-07-10 03:57:00+00:00</th>\n",
       "      <td>NaN</td>\n",
       "      <td>&lt;NA&gt;</td>\n",
       "      <td>0.359218</td>\n",
       "      <td>1.607195</td>\n",
       "    </tr>\n",
       "    <tr>\n",
       "      <th>2023-07-10 03:58:00+00:00</th>\n",
       "      <td>NaN</td>\n",
       "      <td>&lt;NA&gt;</td>\n",
       "      <td>0.357010</td>\n",
       "      <td>1.423125</td>\n",
       "    </tr>\n",
       "    <tr>\n",
       "      <th>2023-07-10 03:59:00+00:00</th>\n",
       "      <td>NaN</td>\n",
       "      <td>&lt;NA&gt;</td>\n",
       "      <td>0.583597</td>\n",
       "      <td>1.445461</td>\n",
       "    </tr>\n",
       "  </tbody>\n",
       "</table>\n",
       "<p>12960 rows × 4 columns</p>\n",
       "</div>"
      ],
      "text/plain": [
       "                           distance_on_foot  apple_watch_exercise_time  \\\n",
       "time                                                                     \n",
       "2023-07-01 04:00:00+00:00               NaN                       <NA>   \n",
       "2023-07-01 04:01:00+00:00               NaN                       <NA>   \n",
       "2023-07-01 04:02:00+00:00               NaN                       <NA>   \n",
       "2023-07-01 04:03:00+00:00               NaN                       <NA>   \n",
       "2023-07-01 04:04:00+00:00               NaN                       <NA>   \n",
       "...                                     ...                        ...   \n",
       "2023-07-10 03:55:00+00:00          0.000000                       <NA>   \n",
       "2023-07-10 03:56:00+00:00          0.000856                       <NA>   \n",
       "2023-07-10 03:57:00+00:00               NaN                       <NA>   \n",
       "2023-07-10 03:58:00+00:00               NaN                       <NA>   \n",
       "2023-07-10 03:59:00+00:00               NaN                       <NA>   \n",
       "\n",
       "                           active_calories_burned  basal_calories_burned  \n",
       "time                                                                      \n",
       "2023-07-01 04:00:00+00:00                0.124000               1.333887  \n",
       "2023-07-01 04:01:00+00:00                0.187429               1.333887  \n",
       "2023-07-01 04:02:00+00:00                0.191016               1.333887  \n",
       "2023-07-01 04:03:00+00:00                0.246077               1.333887  \n",
       "2023-07-01 04:04:00+00:00                0.292781               1.333887  \n",
       "...                                           ...                    ...  \n",
       "2023-07-10 03:55:00+00:00                0.354810               1.375441  \n",
       "2023-07-10 03:56:00+00:00                0.281860               1.583422  \n",
       "2023-07-10 03:57:00+00:00                0.359218               1.607195  \n",
       "2023-07-10 03:58:00+00:00                0.357010               1.423125  \n",
       "2023-07-10 03:59:00+00:00                0.583597               1.445461  \n",
       "\n",
       "[12960 rows x 4 columns]"
      ]
     },
     "execution_count": 7,
     "metadata": {},
     "output_type": "execute_result"
    }
   ],
   "source": [
    "df = fulcra.time_series_grouped(\n",
    "    start_time = \"2023-07-01 04:00:00.000Z\",\n",
    "    end_time = \"2023-07-10 04:00:00.000Z\",\n",
    "    metrics=[\"DistanceTraveledOnFoot\", \n",
    "        \"AppleWatchExerciseTime\",\n",
    "        \"ActiveCaloriesBurned\",\n",
    "        \"BasalCaloriesBurned\"\n",
    "    ]\n",
    ")\n",
    "df"
   ]
  },
  {
   "cell_type": "code",
   "execution_count": 8,
   "metadata": {},
   "outputs": [
    {
     "data": {
      "text/plain": [
       "<Axes: xlabel='time'>"
      ]
     },
     "execution_count": 8,
     "metadata": {},
     "output_type": "execute_result"
    },
    {
     "data": {
      "image/png": "[encoded data removed]",
      "text/plain": [
       "<Figure size 640x480 with 1 Axes>"
      ]
     },
     "metadata": {},
     "output_type": "display_data"
    }
   ],
   "source": [
    "df.plot()"
   ]
  },
  {
   "cell_type": "markdown",
   "metadata": {},
   "source": [
    "## Retrieving Calendars\n",
    "\n",
    "If you've uploaded calendar events via Context, you can get an inventory of the\n",
    "calendars by calling  `calendars()`:"
   ]
  },
  {
   "cell_type": "code",
   "execution_count": 45,
   "metadata": {},
   "outputs": [
    {
     "data": {
      "text/plain": [
       "{'calendar_id': '02b761da-46d0-4074-a9c8-406fd0de3adf',\n",
       " 'calendar_name': 'Birthdays',\n",
       " 'calendar_color': '[0.5098039507865906,0.5843137502670288,0.686274528503418,1.0]',\n",
       " 'calendar_source_id': '03da9f61-7b58-4021-8f40-a93548258faf',\n",
       " 'calendar_source_name': 'Other',\n",
       " 'fulcra_source': 'apple_calendar'}"
      ]
     },
     "execution_count": 45,
     "metadata": {},
     "output_type": "execute_result"
    }
   ],
   "source": [
    "calendars = fulcra.calendars()\n",
    "calendars[0]"
   ]
  },
  {
   "cell_type": "markdown",
   "metadata": {},
   "source": [
    "## Retrieving Calendar Events\n",
    "\n",
    "If you've uploaded calendar events via Context, you can retrieve them by calling \n",
    "`calendar_events()`.\n",
    "\n",
    "There's an optional `calendar_ids` parameter that lets you select which calendars to query."
   ]
  },
  {
   "cell_type": "code",
   "execution_count": 50,
   "metadata": {},
   "outputs": [],
   "source": [
    "cal_events = fulcra.calendar_events(\n",
    "    start_time = \"2023-09-24 07:00:00.000Z\",\n",
    "    end_time = \"2023-09-25 07:00:00.000Z\",\n",
    "    calendar_ids=[\"01fb4138-db27-4792-867d-5cfbdc720165\"]\n",
    ")\n"
   ]
  },
  {
   "cell_type": "code",
   "execution_count": 52,
   "metadata": {},
   "outputs": [
    {
     "data": {
      "text/plain": [
       "[{'calendar_event_id': 'c409a249-24cd-4c19-b763-3683cc21b9f8',\n",
       "  'calendar_id': '01fb4138-db27-4792-867d-5cfbdc720165',\n",
       "  'start_date': '2023-09-24T20:10:00Z',\n",
       "  'end_date': '2023-09-24T21:10:00Z',\n",
       "  'allow_new_time_proposals': None,\n",
       "  'alarms': ['19b7692e-7434-44be-a5ba-c8dfa338deb6'],\n",
       "  'availability': 'free',\n",
       "  'calendar_item_external_identifier': '7kukuqrfedlm2f9tfbe684r6cqpk9mrk0aqdeoan7jdbr93e7963lagn9uq6pdsbac40',\n",
       "  'calendar_item_identifier': '22153B27-4BEE-480C-9627-F2EABC698103',\n",
       "  'event_identifier': 'EC9D6240-04A7-4869-9D2E-1A7648EA7732:7kukuqrfedlm2f9tfbe684r6cqpk9mrk0aqdeoan7jdbr93e7963lagn9uq6pdsbac40',\n",
       "  'creation_date': '2023-09-16T23:27:22Z',\n",
       "  'has_alarms': True,\n",
       "  'has_attendees': True,\n",
       "  'has_notes': True,\n",
       "  'has_recurrence_rules': False,\n",
       "  'is_all_day': False,\n",
       "  'is_detached': False,\n",
       "  'last_modified_date': '2023-09-16T23:27:26Z',\n",
       "  'location': 'PETCO Park',\n",
       "  'notes': 'This event was created from an email you received in Gmail. https://mail.google.com/mail?extsrc=cal&plid=ACUX6DNr9Rq9Nr4ZsA9tKyFA_JkArSfhoZWAAJA\\n',\n",
       "  'occurrence_date': '2023-09-24T20:10:00Z',\n",
       "  'organizer': '22381502-0af3-487a-820c-e22aa4cae201',\n",
       "  'recurrence_rules': None,\n",
       "  'status': 'confirmed',\n",
       "  'geolocation': None,\n",
       "  'time_zone': 'America/Los_Angeles (fixed)',\n",
       "  'title': 'St. Louis Cardinals at San Diego Padres',\n",
       "  'url': None,\n",
       "  'extras': {},\n",
       "  'participants': [{'is_current_user': True,\n",
       "    'participant_role': 'required',\n",
       "    'participant_type': 'person',\n",
       "    'participant_status': 'accepted',\n",
       "    'url': 'mailto:cstone@gmail.com',\n",
       "    'contact_id': '00900185-b290-4f1c-860d-e4433024a943',\n",
       "    'name': 'cstone@gmail.com'}]}]"
      ]
     },
     "execution_count": 52,
     "metadata": {},
     "output_type": "execute_result"
    }
   ],
   "source": [
    "cal_events"
   ]
  },
  {
   "cell_type": "markdown",
   "metadata": {},
   "source": [
    "## Retrieving Apple Workout Events\n",
    "\n",
    "If you've chosen to share Apple HealthKit workouts to your personal data store via Context, \n",
    "you can get details about them by using `apple_wirkouts`:"
   ]
  },
  {
   "cell_type": "code",
   "execution_count": 61,
   "metadata": {},
   "outputs": [],
   "source": [
    "workouts = fulcra.apple_workouts(\n",
    "    start_time = \"2023-09-21 07:00:00.000Z\",\n",
    "    end_time = \"2023-09-22 07:00:00.000Z\"\n",
    ")"
   ]
  },
  {
   "cell_type": "code",
   "execution_count": 64,
   "metadata": {},
   "outputs": [
    {
     "data": {
      "text/plain": [
       "[{'start_date': '2023-09-21T19:18:31.733000Z',\n",
       "  'end_date': '2023-09-21T19:49:08.773000Z',\n",
       "  'has_undetermined_duration': False,\n",
       "  'apple_workout_id': '480b25fe-b229-41b9-bf13-7ccf5e2092ec',\n",
       "  'duration': 1837.0397539138794,\n",
       "  'extras': {'HKTimeZone': 'America/Los_Angeles',\n",
       "   'HKAverageMETs': '4.37848 kcal/hr·kg',\n",
       "   'HKIndoorWorkout': 0,\n",
       "   'HKWeatherHumidity': '7000 %',\n",
       "   'HKElevationAscended': '223 cm',\n",
       "   'HKWeatherTemperature': '70.412 degF'},\n",
       "  'all_statistics': {'HKQuantityTypeIdentifierHeartRate': {'unit': 'count/min',\n",
       "    'average': 130.43537108053232,\n",
       "    'endDate': '2023-09-21T19:49:08.773Z',\n",
       "    'maximum': 149,\n",
       "    'minimum': 99,\n",
       "    'sources': [],\n",
       "    'startDate': '2023-09-21T19:18:31.733Z',\n",
       "    'quantityType': 'HKQuantityTypeIdentifierHeartRate'},\n",
       "   'HKQuantityTypeIdentifierBasalEnergyBurned': {'sum': 54.348563210912246,\n",
       "    'unit': 'Cal',\n",
       "    'endDate': '2023-09-21T19:49:08.773Z',\n",
       "    'sources': [],\n",
       "    'startDate': '2023-09-21T19:18:31.733Z',\n",
       "    'quantityType': 'HKQuantityTypeIdentifierBasalEnergyBurned'},\n",
       "   'HKQuantityTypeIdentifierActiveEnergyBurned': {'sum': 130.2342956699063,\n",
       "    'unit': 'Cal',\n",
       "    'endDate': '2023-09-21T19:49:08.773Z',\n",
       "    'sources': [],\n",
       "    'startDate': '2023-09-21T19:18:31.733Z',\n",
       "    'quantityType': 'HKQuantityTypeIdentifierActiveEnergyBurned'},\n",
       "   'HKQuantityTypeIdentifierDistanceWalkingRunning': {'sum': 1.0412779553514795,\n",
       "    'unit': 'mi',\n",
       "    'endDate': '2023-09-21T19:49:08.773Z',\n",
       "    'sources': [],\n",
       "    'startDate': '2023-09-21T19:18:31.733Z',\n",
       "    'quantityType': 'HKQuantityTypeIdentifierDistanceWalkingRunning'}},\n",
       "  'workout_activities': [{'uuid': '480B25FE-B229-41B9-BF13-7CCF5E2092EC',\n",
       "    'extras': None,\n",
       "    'endDate': '2023-09-21T19:49:08.773Z',\n",
       "    'duration': 1837.0397539138794,\n",
       "    'startDate': '2023-09-21T19:18:31.733Z',\n",
       "    'allStatistics': {'HKQuantityTypeIdentifierHeartRate': {'unit': 'count/min',\n",
       "      'average': 130.43537108053232,\n",
       "      'endDate': '2023-09-21T19:49:08.773Z',\n",
       "      'maximum': 149,\n",
       "      'minimum': 99,\n",
       "      'sources': [],\n",
       "      'startDate': '2023-09-21T19:18:31.733Z',\n",
       "      'quantityType': 'HKQuantityTypeIdentifierHeartRate'},\n",
       "     'HKQuantityTypeIdentifierBasalEnergyBurned': {'sum': 54.348563210912246,\n",
       "      'unit': 'Cal',\n",
       "      'endDate': '2023-09-21T19:49:08.773Z',\n",
       "      'sources': [],\n",
       "      'startDate': '2023-09-21T19:18:31.733Z',\n",
       "      'quantityType': 'HKQuantityTypeIdentifierBasalEnergyBurned'},\n",
       "     'HKQuantityTypeIdentifierActiveEnergyBurned': {'sum': 130.2342956699063,\n",
       "      'unit': 'Cal',\n",
       "      'endDate': '2023-09-21T19:49:08.773Z',\n",
       "      'sources': [],\n",
       "      'startDate': '2023-09-21T19:18:31.733Z',\n",
       "      'quantityType': 'HKQuantityTypeIdentifierActiveEnergyBurned'},\n",
       "     'HKQuantityTypeIdentifierDistanceWalkingRunning': {'sum': 1.0412779553514795,\n",
       "      'unit': 'mi',\n",
       "      'endDate': '2023-09-21T19:49:08.773Z',\n",
       "      'sources': [],\n",
       "      'startDate': '2023-09-21T19:18:31.733Z',\n",
       "      'quantityType': 'HKQuantityTypeIdentifierDistanceWalkingRunning'}},\n",
       "    'workoutEvents': [{'type': 'segment',\n",
       "      'extras': {},\n",
       "      'endDate': '2023-09-21T19:36:01.085Z',\n",
       "      'duration': 1049.3522248268127,\n",
       "      'startDate': '2023-09-21T19:18:31.733Z'},\n",
       "     {'type': 'segment',\n",
       "      'extras': {},\n",
       "      'endDate': '2023-09-21T19:47:23.429Z',\n",
       "      'duration': 1731.6960245370865,\n",
       "      'startDate': '2023-09-21T19:18:31.733Z'},\n",
       "     {'type': 'segment',\n",
       "      'extras': {},\n",
       "      'endDate': '2023-09-21T19:48:41.970Z',\n",
       "      'duration': 760.8844244480133,\n",
       "      'startDate': '2023-09-21T19:36:01.085Z'},\n",
       "     {'type': 'segment',\n",
       "      'extras': {},\n",
       "      'endDate': '2023-09-21T19:48:41.970Z',\n",
       "      'duration': 78.54062473773956,\n",
       "      'startDate': '2023-09-21T19:47:23.429Z'}],\n",
       "    'workoutConfiguration': {'lapLength': 0,\n",
       "     'activityType': 'walking',\n",
       "     'locationType': 'outdoor',\n",
       "     'lapLengthUnit': 'meter',\n",
       "     'swimmingLocationType': 'unknown'}}],\n",
       "  'workout_activity_type': 'walking',\n",
       "  'workout_events': [{'type': 'segment',\n",
       "    'extras': {},\n",
       "    'endDate': '2023-09-21T19:36:01.085Z',\n",
       "    'duration': 1049.3522248268127,\n",
       "    'startDate': '2023-09-21T19:18:31.733Z'},\n",
       "   {'type': 'segment',\n",
       "    'extras': {},\n",
       "    'endDate': '2023-09-21T19:47:23.429Z',\n",
       "    'duration': 1731.6960245370865,\n",
       "    'startDate': '2023-09-21T19:18:31.733Z'},\n",
       "   {'type': 'segment',\n",
       "    'extras': {},\n",
       "    'endDate': '2023-09-21T19:48:41.970Z',\n",
       "    'duration': 760.8844244480133,\n",
       "    'startDate': '2023-09-21T19:36:01.085Z'},\n",
       "   {'type': 'segment',\n",
       "    'extras': {},\n",
       "    'endDate': '2023-09-21T19:48:41.970Z',\n",
       "    'duration': 78.54062473773956,\n",
       "    'startDate': '2023-09-21T19:47:23.429Z'}],\n",
       "  'source_revision': {'name': 'Brandon’s Apple\\xa0Watch',\n",
       "   'version': '9.6.2',\n",
       "   'productType': 'Watch5,3',\n",
       "   'operatingSystemVersion': [9, 6, 2],\n",
       "   'sourceBundleIdentifier': 'com.apple.health.7E2CA2FD-82AB-4F60-BEE3-4474DE238398'},\n",
       "  'device': {'name': 'Apple Watch',\n",
       "   'model': 'Watch',\n",
       "   'manufacturer': 'Apple Inc.',\n",
       "   'hardwareVersion': 'Watch5,3',\n",
       "   'softwareVersion': '9.6.2'}}]"
      ]
     },
     "execution_count": 64,
     "metadata": {},
     "output_type": "execute_result"
    }
   ],
   "source": [
    "workouts"
   ]
  },
  {
   "cell_type": "markdown",
   "metadata": {},
   "source": [
    "## Requesting Simple Events\n",
    "\n",
    "If you're recording simple events via our API (e.g. from mood buttons), you can\n",
    "retrieve these using `simple_events()`:"
   ]
  },
  {
   "cell_type": "code",
   "execution_count": 67,
   "metadata": {},
   "outputs": [],
   "source": [
    "simple_events = fulcra.simple_events(\n",
    "    start_time=\"2022-05-01 04:00:00.000Z\", end_time=\"2023-08-03 04:00:00.000Z\"\n",
    ")"
   ]
  },
  {
   "cell_type": "code",
   "execution_count": 68,
   "metadata": {},
   "outputs": [
    {
     "data": {
      "text/plain": [
       "[{'event_body': 'relieved',\n",
       "  'category': 'mood',\n",
       "  'event_id': '12680011-6668-4c8e-b4cd-3ca429445ac0',\n",
       "  'timestamp': '2022-09-21T05:51:22Z'},\n",
       " {'event_body': 'relieved',\n",
       "  'category': 'mood',\n",
       "  'event_id': '208f1728-124e-4bee-a162-8494b8ecad59',\n",
       "  'timestamp': '2022-09-21T16:59:49Z'},\n",
       " {'event_body': 'happy',\n",
       "  'category': 'mood',\n",
       "  'event_id': 'b74fa870-b265-4578-ab46-7cb920f4f1c3',\n",
       "  'timestamp': '2022-09-21T17:44:21Z'},\n",
       " {'event_body': 'happy',\n",
       "  'category': 'mood',\n",
       "  'event_id': '478c093d-9e88-4b46-8f3a-0acdde3d89c0',\n",
       "  'timestamp': '2022-09-21T17:44:58Z'},\n",
       " {'event_body': 'happy',\n",
       "  'category': 'mood',\n",
       "  'event_id': 'ef29c8ab-76ee-42ef-ba0f-d356e33da580',\n",
       "  'timestamp': '2022-09-21T17:45:08Z'},\n",
       " {'event_body': 'foobar',\n",
       "  'category': 'testxyz',\n",
       "  'event_id': '9d93cbac-e641-4613-8b75-1dbf1b3c3b4f',\n",
       "  'timestamp': '2023-07-18T06:41:54.366877Z'},\n",
       " {'event_body': 'foobar',\n",
       "  'category': 'testxyz',\n",
       "  'event_id': '5df49f5b-11f5-423e-a6cd-27c7b19e0a9a',\n",
       "  'timestamp': '2023-07-27T05:37:59.255165Z'}]"
      ]
     },
     "execution_count": 68,
     "metadata": {},
     "output_type": "execute_result"
    }
   ],
   "source": [
    "simple_events"
   ]
  },
  {
   "cell_type": "markdown",
   "metadata": {},
   "source": [
    "You can also pass a `categories` list to `simple_events()` if you'd like to only get events from specific categories:"
   ]
  },
  {
   "cell_type": "code",
   "execution_count": 70,
   "metadata": {},
   "outputs": [
    {
     "data": {
      "text/plain": [
       "[('relieved', '2022-09-21T05:51:22Z'),\n",
       " ('relieved', '2022-09-21T16:59:49Z'),\n",
       " ('happy', '2022-09-21T17:44:21Z'),\n",
       " ('happy', '2022-09-21T17:44:58Z'),\n",
       " ('happy', '2022-09-21T17:45:08Z')]"
      ]
     },
     "execution_count": 70,
     "metadata": {},
     "output_type": "execute_result"
    }
   ],
   "source": [
    "filtered_events = fulcra.simple_events(\n",
    "    start_time=\"2022-05-01 04:00:00.000Z\", end_time=\"2023-08-03 04:00:00.000Z\",\n",
    "    categories=[\"mood\"]\n",
    ")\n",
    "[(e['event_body'], e['timestamp']) for e in filtered_events]"
   ]
  },
  {
   "cell_type": "markdown",
   "metadata": {},
   "source": [
    "## Retrieving Raw Samples from Time Series Metrics\n",
    "\n",
    "Fulcra's data service does an excellent job of normalizing and prioritizing events \n",
    "for a given metric to present a clean time series.  However, if you'd like to get\n",
    "the raw samples that comprise it, call `metric_samples()`."
   ]
  },
  {
   "cell_type": "code",
   "execution_count": 72,
   "metadata": {},
   "outputs": [],
   "source": [
    "samples = fulcra.metric_samples(\n",
    "    start_time=\"2023-08-09 07:00:00.000Z\", end_time=\"2023-08-10 07:00:00.000Z\",\n",
    "    metric=\"StepCount\"\n",
    ")  "
   ]
  },
  {
   "cell_type": "code",
   "execution_count": 75,
   "metadata": {},
   "outputs": [
    {
     "data": {
      "text/plain": [
       "{'start_date': '2023-08-09T18:43:05.974+00:00',\n",
       " 'end_date': '2023-08-09T18:44:04.929+00:00',\n",
       " 'extras': None,\n",
       " 'has_undetermined_duration': False,\n",
       " 'unit': 'count',\n",
       " 'count': 1,\n",
       " 'uuid': '201b3360-7458-4af5-9e67-49616a1364bd',\n",
       " 'value': 30,\n",
       " 'source_properties': {'name': 'Brandon’s Apple\\xa0Watch',\n",
       "  'version': '9.6',\n",
       "  'productType': 'Watch5,3',\n",
       "  'operatingSystemVersion': [9, 6, 0],\n",
       "  'sourceBundleIdentifier': 'com.apple.health.7E2CA2FD-82AB-4F60-BEE3-4474DE238398'},\n",
       " 'device_properties': {'name': 'Apple Watch',\n",
       "  'model': 'Watch',\n",
       "  'manufacturer': 'Apple Inc.',\n",
       "  'hardwareVersion': 'Watch5,3',\n",
       "  'softwareVersion': '9.6'}}"
      ]
     },
     "execution_count": 75,
     "metadata": {},
     "output_type": "execute_result"
    }
   ],
   "source": [
    "samples[0]"
   ]
  },
  {
   "cell_type": "code",
   "execution_count": 79,
   "metadata": {},
   "outputs": [
    {
     "data": {
      "text/plain": [
       "29048"
      ]
     },
     "execution_count": 79,
     "metadata": {},
     "output_type": "execute_result"
    }
   ],
   "source": [
    "sum((s['value'] for s in samples if s['device_properties']['name'] == 'Apple Watch'))"
   ]
  },
  {
   "cell_type": "markdown",
   "metadata": {},
   "source": [
    "## Retrieving Location Update Samples\n",
    "\n",
    "If you're sending Apple location update samples to your Fulcra data store--in Context, this\n",
    "option is called \"High Frequency Location\"--then you can query these by calling\n",
    "`apple_location_updates()`:"
   ]
  },
  {
   "cell_type": "code",
   "execution_count": 87,
   "metadata": {},
   "outputs": [],
   "source": [
    "updates = fulcra.apple_location_updates(\n",
    "    start_time=\"2023-09-24T20:00:00Z\", \n",
    "    end_time=\"2023-09-24T21:10:00Z\"\n",
    ")"
   ]
  },
  {
   "cell_type": "code",
   "execution_count": 88,
   "metadata": {},
   "outputs": [
    {
     "data": {
      "text/plain": [
       "[{'speed': -1,\n",
       "  'horizontal_accuracy_meters': 35,\n",
       "  'longitude_degrees': -117.15661336566698,\n",
       "  'source_is_simulated_by_software': False,\n",
       "  'source_is_produced_by_accessory': False,\n",
       "  'latitude_degrees': 32.706505158026005,\n",
       "  'vertical_accuracy_meters': 3.0130748748779297,\n",
       "  'course_heading_accuracy_degrees': -1,\n",
       "  'course_heading_degrees': -1,\n",
       "  'ellipsoidal_altitude_meters': -6.280021667480469,\n",
       "  'floor': 0,\n",
       "  'speed_accuracy_meters': -1,\n",
       "  'altitude_meters': 29.17388153076172,\n",
       "  'uuid': 'e80feacc-54e9-414f-86cb-8d6ebd85ea41',\n",
       "  'timestamp': '2023-09-24T20:39:28.056+00:00'},\n",
       " {'speed': -1,\n",
       "  'horizontal_accuracy_meters': 35,\n",
       "  'longitude_degrees': -117.15661336566698,\n",
       "  'source_is_simulated_by_software': False,\n",
       "  'source_is_produced_by_accessory': False,\n",
       "  'latitude_degrees': 32.706505158026005,\n",
       "  'vertical_accuracy_meters': 3.0130748748779297,\n",
       "  'course_heading_accuracy_degrees': -1,\n",
       "  'course_heading_degrees': -1,\n",
       "  'ellipsoidal_altitude_meters': -6.280021667480469,\n",
       "  'floor': 0,\n",
       "  'speed_accuracy_meters': -1,\n",
       "  'altitude_meters': 29.17388153076172,\n",
       "  'uuid': '1d0bf513-13c0-4031-b5db-17ca7de00e34',\n",
       "  'timestamp': '2023-09-24T20:39:28.056+00:00'}]"
      ]
     },
     "execution_count": 88,
     "metadata": {},
     "output_type": "execute_result"
    }
   ],
   "source": [
    "updates[0:2]"
   ]
  },
  {
   "cell_type": "markdown",
   "metadata": {},
   "source": [
    "## Retrieving Location Visit Samples\n",
    "\n",
    "If you're sending Apple location visit samples to your Fulcra data store\n",
    "(this happens automatically if you've chosen to share location with Context),\n",
    "you can get these out by calling `apple_location_visits()`:"
   ]
  },
  {
   "cell_type": "code",
   "execution_count": 89,
   "metadata": {},
   "outputs": [],
   "source": [
    "visits = fulcra.apple_location_visits(\n",
    "    start_time=\"2023-09-24T20:00:00Z\", \n",
    "    end_time=\"2023-09-24T21:10:00Z\"\n",
    ")"
   ]
  },
  {
   "cell_type": "markdown",
   "metadata": {},
   "source": [
    "**Note**: Because these are raw samples of Apple location visit objects, there are \n",
    "cases where `arrival_date` or `departure_date` may be missing.\n",
    "\n",
    "In these cases, the values will not be null.  Instead, they will be a date far in the past\n",
    "in the case of `arrival_date`, or far into the future for `departure_date`.\n",
    "\n",
    "These values are gathered from Core Location `CLVisit` objects; for more information on them,\n",
    "visit [Apple's Developer Documentation page](https://developer.apple.com/documentation/corelocation/clvisit)\n",
    "about them."
   ]
  },
  {
   "cell_type": "code",
   "execution_count": 91,
   "metadata": {},
   "outputs": [
    {
     "data": {
      "text/plain": [
       "{'longitude_degrees': -117.1916301958441,\n",
       " 'latitude_degrees': 32.7841850572102,\n",
       " 'arrival_date': '0001-01-01T00:00:00+00:00',\n",
       " 'departure_date': '2023-09-25T22:20:22.018+00:00',\n",
       " 'horizontal_accuracy_meters': 10.259480791395442,\n",
       " 'uuid': 'd91619b2-25cd-4dd1-a65f-04ed7f922a60'}"
      ]
     },
     "execution_count": 91,
     "metadata": {},
     "output_type": "execute_result"
    }
   ],
   "source": [
    "visits[0]"
   ]
  }
 ],
 "metadata": {
  "kernelspec": {
   "display_name": "Python 3 (ipykernel)",
   "language": "python",
   "name": "python3"
  },
  "language_info": {
   "codemirror_mode": {
    "name": "ipython",
    "version": 3
   },
   "file_extension": ".py",
   "mimetype": "text/x-python",
   "name": "python",
   "nbconvert_exporter": "python",
   "pygments_lexer": "ipython3",
   "version": "3.10.13"
  },
  "orig_nbformat": 4
 },
 "nbformat": 4,
 "nbformat_minor": 2
}
