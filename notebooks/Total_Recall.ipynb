{
  "cells": [
    {
      "cell_type": "markdown",
      "metadata": {
        "id": "2DtCjEGYV1Fq"
      },
      "source": [
        "# Fulcra Total Recall Notebook\n",
        "### Use this example to recall what you did on an arbitrary day by using date and requesting data"
      ]
    },
    {
      "cell_type": "markdown",
      "metadata": {
        "id": "QcW-fDlhV1Fx"
      },
      "source": [
        "Dated: 25-Oct-2023"
      ]
    },
    {
      "cell_type": "markdown",
      "metadata": {
        "id": "nuDzrE1KV1Fy"
      },
      "source": [
        "### Setting up FulcraAPI and Installing required libraries"
      ]
    },
    {
      "cell_type": "code",
      "execution_count": null,
      "metadata": {
        "id": "AVgeu560V1Fy"
      },
      "outputs": [],
      "source": [
        "%pip install -qU fulcra-api\n",
        "%pip install -qU folium\n",
        "%pip install -qU matplotlib"
      ]
    },
    {
      "cell_type": "markdown",
      "metadata": {
        "id": "ClA4jzn_V1F0"
      },
      "source": [
        "Colaboratory note: You may see a dependency error while installing pyarrow; this can be ignored."
      ]
    },
    {
      "cell_type": "markdown",
      "metadata": {
        "id": "CdxLYULEV1F1"
      },
      "source": [
        "### Importing libraries we need"
      ]
    },
    {
      "cell_type": "code",
      "execution_count": null,
      "metadata": {
        "id": "kIXc4hHOV1F3"
      },
      "outputs": [],
      "source": [
        "from datetime import datetime\n",
        "from collections import Counter\n",
        "from IPython.display import display, HTML\n",
        "from fulcra_api.core import FulcraAPI\n",
        "import folium\n",
        "import matplotlib.pyplot as plt\n",
        "from mpl_toolkits.mplot3d import Axes3D\n",
        "import concurrent.futures"
      ]
    },
    {
      "cell_type": "markdown",
      "metadata": {
        "id": "RMmg8KnsV1F4"
      },
      "source": [
        "### Before using Fulcra API"
      ]
    },
    {
      "cell_type": "code",
      "execution_count": null,
      "metadata": {
        "id": "hyGTJ7X9V1F4"
      },
      "outputs": [],
      "source": [
        "fulcra = FulcraAPI()\n",
        "fulcra.authorize()"
      ]
    },
    {
      "cell_type": "markdown",
      "metadata": {
        "id": "KS8eEDn4V1F5"
      },
      "source": [
        "### Recalling a day\n",
        "Please enter a date and run the next cell, make sure you are authorized to access Fulcra backend"
      ]
    },
    {
      "cell_type": "code",
      "execution_count": null,
      "metadata": {
        "id": "99zNbHQdV1F6"
      },
      "outputs": [],
      "source": [
        "recall_date = \"25-10-2023\""
      ]
    },
    {
      "cell_type": "markdown",
      "metadata": {
        "id": "8d2kFBpHV1F6"
      },
      "source": [
        "### Initiate a Recall for your date"
      ]
    },
    {
      "cell_type": "code",
      "execution_count": null,
      "metadata": {
        "id": "Jsh88NCOV1F6"
      },
      "outputs": [],
      "source": [
        "metrics_ = [\"AFibBurden\",\"ActiveCaloriesBurned\",\"AlcoholicDrinksConsumed\",\"AppetiteChange\",\"AppleWatchExerciseTime\",\"AppleWatchMoveTime\",\"AppleWatchStandTime\",\"BasalBodyTemperature\",\"BasalCaloriesBurned\",\"BloodAlcoholContent\",\"BloodGlucose\",\"BloodOxygenSaturation\",\"BloodPressureDiastolic\",\"BloodPressureSystolic\",\"BodyFatPercentage\",\"BodyMassIndex\",\"BodyTemperature\",\"CaloriesConsumed\",\"CervicalMucusQuality\",\"ContraceptiveUse\",\"DietaryBiotinConsumed\",\"DietaryCaffeineConsumed\",\"DietaryCalciumConsumed\",\"DietaryCarbohydratesConsumed\",\"DietaryChlorideConsumed\",\"DietaryCholesterolConsumed\",\"DietaryChromiumConsumed\",\"DietaryCopperConsumed\",\"DietaryFiberConsumed\",\"DietaryFolateConsumed\",\"DietaryIodineConsumed\",\"DietaryIronConsumed\",\"DietaryMagnesiumConsumed\",\"DietaryManganeseConsumed\",\"DietaryMolybdenumConsumed\",\"DietaryNiacinConsumed\",\"DietaryPantothenicAcidConsumed\",\"DietaryPhosphorusConsumed\",\"DietaryPotassiumConsumed\",\"DietaryProteinConsumed\",\"DietaryRiboflavinConsumed\",\"DietarySeleniumConsumed\",\"DietarySodiumConsumed\",\"DietarySugarConsumed\",\"DietaryThiaminConsumed\",\"DietaryVitaminAConsumed\",\"DietaryVitaminB12Consumed\",\"DietaryVitaminB6Consumed\",\"DietaryVitaminCConsumed\",\"DietaryVitaminDConsumed\",\"DietaryVitaminEConsumed\",\"DietaryVitaminKConsumed\",\"DietaryWaterConsumed\",\"DietaryZincConsumed\",\"DistanceTraveledCycling\",\"DistanceTraveledDownhillSnowSports\",\"DistanceTraveledOnFoot\",\"DistanceTraveledSwimming\",\"DistanceTraveledWithWheelchair\",\"EnvironmentalAudioLevel\",\"EnvironmentalAudioLevelIncraeseEvent\",\"FallCount\",\"HandwashingEvent\",\"HeadphonesAudioLevel\",\"HeadphonesAudioLevelIncraeseEvent\",\"HeartRate\",\"HeartRateRecoveryOneMinute\",\"HeartRateVariabilitySDNN\",\"Height\",\"HighHeartRateEvent\",\"InfrequentMenstrualCycles\",\"InhalerUse\",\"InsulinUnitsDelivered\",\"IrregularHeartRhythmEvent\",\"IrregularMenstrualCycles\",\"Lactation\",\"LeanBodyMass\",\"LowCardioFitnessEvent\",\"LowHeartRateEvent\",\"MenstrualFlow\",\"MindfulSession\",\"MonounsaturatedFatConsumed\",\"MoodChanges\",\"NikeFuelPoints\",\"OvulationTestResult\",\"PersistentMenstrualBleeding\",\"PolyunsaturatedFatConsumed\",\"Pregnancy\",\"PregnancyTestResult\",\"ProgesteroneTestResult\",\"ProlongedMenstrualPeriods\",\"ReportedMood\",\"RespiratoryRate\",\"RestingHeartRate\",\"RunningGroundContactTime\",\"RunningPower\",\"RunningSpeed\",\"RunningStrideLength\",\"RunningVerticalOscillation\",\"SaturatedFatConsumed\",\"SexualActivity\",\"SixMinuteWalkDistance\",\"SleepChanges\",\"SleepStage\",\"SleepingWristTemperature\",\"StairAscentSpeed\",\"StairDescentSpeed\",\"StairFlightsClimbed\",\"StandHour\",\"StepCount\",\"SwimmingStrokeCount\",\"SymptomAbdominalCramps\",\"SymptomAcne\",\"SymptomBladderIncontinence\",\"SymptomBloating\",\"SymptomBreastPain\",\"SymptomChestTightnessOrPain\",\"SymptomChills\",\"SymptomConstipation\",\"SymptomCoughing\",\"SymptomDiarrhea\",\"SymptomDizziness\",\"SymptomDrySkin\",\"SymptomFainting\",\"SymptomFatigue\",\"SymptomFever\",\"SymptomGeneralizedBodyAche\",\"SymptomHairLoss\",\"SymptomHeadache\",\"SymptomHeartburn\",\"SymptomHotFlashes\",\"SymptomLossOfSmell\",\"SymptomLossOfTaste\",\"SymptomLowerBackPain\",\"SymptomMemoryLapse\",\"SymptomNausea\",\"SymptomNightSweats\",\"SymptomPelvicPain\",\"SymptomRapidPoundingOrFlutteringHeartbeat\",\"SymptomRunnyNose\",\"SymptomShortnessOfBreath\",\"SymptomSinusCongestion\",\"SymptomSkippedHeartbeat\",\"SymptomSoreThroat\",\"SymptomVaginalDryness\",\"SymptomVomiting\",\"SymptomWheezing\",\"ToothbrushingEvent\",\"TotalFatConsumed\",\"UnderwaterDepth\",\"VO2Max\",\"WaistCircumference\",\"WalkingAsymmetry\",\"WalkingDoubleSupport\",\"WalkingHeartRate\",\"WalkingSpeed\",\"WalkingSteadiness\",\"WalkingSteadinessDecreaseEvent\",\"WalkingStrideLength\",\"WaterTemperature\",\"Weight\",\"WheelchairPushes\"]\n",
        "\n",
        "recall_date_list = [int(num) for num in recall_date.split(\"-\")]\n",
        "s_year = recall_date_list[2]\n",
        "s_month = recall_date_list[1]\n",
        "s_day = recall_date_list[0]\n",
        "\n",
        "# End date\n",
        "e_year = recall_date_list[2]\n",
        "e_month = recall_date_list[1]\n",
        "e_day = recall_date_list[0] + 1\n",
        "\n",
        "# Creating a datetime object\n",
        "start_date = datetime(s_year, s_month, s_day, 0, 0, 0)\n",
        "end_date = datetime(e_year, e_month, e_day, 0, 0, 0)\n",
        "\n",
        "print(\"Going back in time .... ⏱\")\n",
        "\n",
        "time_start = f\"{str(start_date)}Z\"\n",
        "end_start = f\"{str(end_date)}Z\"\n",
        "\n",
        "def threadPool(values, targetFunction, maxWorkers=None):\n",
        "    if maxWorkers != None:\n",
        "        with concurrent.futures.ThreadPoolExecutor(max_workers=maxWorkers) as executor:\n",
        "            results = list(executor.map(targetFunction, values))\n",
        "    else:\n",
        "        with concurrent.futures.ThreadPoolExecutor() as executor:\n",
        "            results = list(executor.map(targetFunction, values))\n",
        "    return results\n",
        "\n",
        "def getMetric(metric):\n",
        "    try:\n",
        "        dfTimeSeries = fulcra.time_series_grouped(\n",
        "                sample_rate = 60, # Value being used before 86400\n",
        "                start_time = time_start,\n",
        "                end_time = end_start,\n",
        "                metrics=metric\n",
        "        )\n",
        "        value = dfTimeSeries.iloc[0, 0]\n",
        "        if str(value) != \"nan\":\n",
        "            if str(value) != \"<NA>\":\n",
        "                if float(value) > 0.0:\n",
        "                    return {\n",
        "                        \"Metric\": metric,\n",
        "                        \"Name\": \" \".join(list(dfTimeSeries.columns)[0].split('_')),\n",
        "                        \"Value\": value\n",
        "                        }\n",
        "        pass\n",
        "    except Exception:\n",
        "        pass\n",
        "\n",
        "data = threadPool(metrics_, getMetric, 8)\n",
        "print(\"On this day, \")\n",
        "for each in data:\n",
        "    if isinstance(each, dict):\n",
        "        print(\"✨\", each['Name'].title(), float(each['Value']).__round__(2))\n",
        "\n",
        "display(HTML(\"<br>\"))\n",
        "\n",
        "calenders_id_name = {}\n",
        "calenders_mine = fulcra.calendars()\n",
        "for each in calenders_mine:\n",
        "    calenders_id_name[each['calendar_id']] = each['calendar_name']\n",
        "\n",
        "calendar_events = fulcra.calendar_events(start_time=start_date, end_time=end_date)\n",
        "if calendar_events == []:\n",
        "    print(\"You had no calender events for this day\")\n",
        "else:\n",
        "    print(\"You had these events in your calendar on that day\")\n",
        "    for each_calEvent in calendar_events:\n",
        "        title = each_calEvent['title']\n",
        "        createdOn = each_calEvent[\"creation_date\"].replace(\"Z\", \"\").split(\"T\")[1]\n",
        "        startTime = each_calEvent['start_date'].replace(\"Z\", \"\").split(\"T\")[1]\n",
        "        endTime = each_calEvent['end_date'].replace(\"Z\", \"\").split(\"T\")[1]\n",
        "        eventNote = each_calEvent['notes']\n",
        "        eventLocation = each_calEvent['location']\n",
        "        calendarName = calenders_id_name[each_calEvent['calendar_id']]\n",
        "        if each_calEvent['participants'] != None:\n",
        "            totalParticipants = len(each_calEvent['participants'])\n",
        "        else:\n",
        "            totalParticipants = 0\n",
        "        htmlCard = f'''<div style=\"border: 0.5px solid grey; padding: 20px; border-radius: 4px; width: 600px; margin: 20px;\">\n",
        "        <h4>{title}</h4>\n",
        "        <h5>Start Time :</h5><p>{startTime}</p>\n",
        "        <h5>End Time :</h5><p>{endTime}</p>\n",
        "        <hr>\n",
        "        <h5>Location :</h5><p>{eventLocation}</p>\n",
        "    </div>'''\n",
        "        display(HTML(htmlCard))\n",
        "\n",
        "def mostCommonMood(data):\n",
        "    events = []\n",
        "    for each_event_body in data:\n",
        "        events.append(each_event_body['event_body'])\n",
        "    word_counts = Counter(events)\n",
        "    most_common = word_counts.most_common(1)\n",
        "    if most_common:\n",
        "        return most_common[0][0]\n",
        "    else:\n",
        "        return None\n",
        "\n",
        "display(HTML(\"<br>\"))\n",
        "\n",
        "filtered_events = fulcra.simple_events(\n",
        "    start_time=f\"{str(start_date)}.000Z\", end_time=f\"{str(end_date)}.000Z\",\n",
        "    categories=[\"mood\"]\n",
        ")\n",
        "if filtered_events == []:\n",
        "    print(\"I've searched for simple events under your category but was unable to find anything\")\n",
        "else:\n",
        "    print(f\"Your most common mood for the day was {mostCommonMood(filtered_events)}\")\n",
        "\n",
        "\n",
        "display(HTML(\"<br>\"))\n",
        "\n",
        "workouts = fulcra.apple_workouts(\n",
        "    start_time = f\"{str(start_date)}.000Z\",\n",
        "    end_time = f\"{str(end_date)}.000Z\"\n",
        ")\n",
        "timeStamp = []\n",
        "METs = []\n",
        "duration = []\n",
        "if workouts == []:\n",
        "    print(\"I've searched your apple workouts and found nothing\")\n",
        "else:\n",
        "    print(\"I've searched for your workout and you did these workouts on that day\")\n",
        "    for each_wo in workouts:\n",
        "        timeStamp.append(each_wo['start_date'].split('.')[0].replace('T', ' ').split(\" \")[1])\n",
        "        duration.append((float(each_wo['duration'])/60).__round__(2))\n",
        "        METs.append(float(each_wo['extras']['HKAverageMETs'].split(' ')[0]))\n",
        "    display(HTML(\"<br>\"))\n",
        "    plt.figure(figsize=(4, 4))\n",
        "    plt.plot(timeStamp, METs, marker='o', linestyle='-', color='blue')\n",
        "    plt.xlabel('Timestamps (HH:MM:SS)')\n",
        "    plt.ylabel('AverageMETs (kcal/hr·kg)')\n",
        "    plt.title('Average Metabolic Equivalent of Task per workout')\n",
        "    plt.grid(True)\n",
        "    plt.show()\n",
        "    display(HTML(\"<br>\"))\n",
        "    plt.figure(figsize=(4, 4))\n",
        "    plt.plot(timeStamp, duration, marker='o', linestyle='-', color='green')\n",
        "    plt.xlabel('Timestamps (HH:MM:SS)')\n",
        "    plt.ylabel('Duration of workouts')\n",
        "    plt.title('Workout by duration during the day')\n",
        "    plt.grid(True)\n",
        "    plt.show()\n",
        "\n",
        "display(HTML(\"<br>\"))\n",
        "\n",
        "locData = []\n",
        "try:\n",
        "    visits = fulcra.apple_location_visits(\n",
        "        start_time=f'{str(start_date).replace(\" \", \"T\")}Z',\n",
        "        end_time=f'{str(end_date).replace(\" \", \"T\")}Z'\n",
        "    )\n",
        "    print(\"You visited these locations on that day\")\n",
        "    display(HTML(\"<br>\"))\n",
        "    for each in visits:\n",
        "        locData.append(f\"{each['longitude_degrees']}:{each['latitude_degrees']}\")\n",
        "except Exception as e:\n",
        "    print(\"Some error has occured while getting your location visits\")\n",
        "\n",
        "baseLong, baseLat = [float(num) for num in locData[0].split(':')]\n",
        "m = folium.Map(location=[baseLong, baseLat], zoom_start=12)\n",
        "for each in locData[1:]:\n",
        "    long, lat = [float(num) for num in each.split(':')]\n",
        "    folium.Marker(location=[long, lat], popup='Visited Locations on that day').add_to(m)\n",
        "m"
      ]
    }
  ],
  "metadata": {
    "colab": {
      "provenance": []
    },
    "kernelspec": {
      "display_name": "Python 3 (ipykernel)",
      "language": "python",
      "name": "python3"
    },
    "language_info": {
      "codemirror_mode": {
        "name": "ipython",
        "version": 3
      },
      "file_extension": ".py",
      "mimetype": "text/x-python",
      "name": "python",
      "nbconvert_exporter": "python",
      "pygments_lexer": "ipython3",
      "version": "3.10.13"
    }
  },
  "nbformat": 4,
  "nbformat_minor": 0
}
